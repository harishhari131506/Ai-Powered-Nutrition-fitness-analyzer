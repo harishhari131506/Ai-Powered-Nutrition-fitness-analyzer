{
 "cells": [
  {
   "cell_type": "code",
   "execution_count": 1,
   "id": "4a4e546b",
   "metadata": {},
   "outputs": [
    {
     "name": "stdout",
     "output_type": "stream",
     "text": [
      "Loaded model from disk\n",
      " * Serving Flask app '__main__'\n",
      " * Debug mode: off\n"
     ]
    },
    {
     "name": "stderr",
     "output_type": "stream",
     "text": [
      "WARNING: This is a development server. Do not use it in a production deployment. Use a production WSGI server instead.\n",
      " * Running on http://127.0.0.1:5000\n",
      "Press CTRL+C to quit\n"
     ]
    }
   ],
   "source": [
    "from flask import Flask,render_template,request\n",
    "# Flask-It is our framework which we are going to use to run/serve our application.\n",
    "#request-for accessing file which was uploaded by the user on our application.\n",
    "import os\n",
    "import numpy as np #used for numerical analysis\n",
    "from tensorflow.keras.models import load_model#to load our trained model\n",
    "from tensorflow.keras.preprocessing import image\n",
    "import requests\n",
    "\n",
    "\n",
    "app = Flask(__name__,template_folder=\"templates\") # initializing a flask app\n",
    "# Loading the model\n",
    "model=load_model('nutrition.h5')\n",
    "print(\"Loaded model from disk\")\n",
    "\n",
    "\n",
    "@app.route('/')# route to display the home page\n",
    "def home():\n",
    "    return render_template('home.html')#rendering the home page\n",
    "\n",
    "@app.route('/image1',methods=['GET','POST'])# routes to the index html\n",
    "def image1():\n",
    "    return render_template(\"image.html\")\n",
    "\n",
    "\n",
    "\n",
    "@app.route('/predict',methods=['GET', 'POST'])# route to show the predictions in a web UI\n",
    "def launch():\n",
    "    if request.method=='POST':\n",
    "        f=request.files['file'] #requesting the file\n",
    "        basepath=os.path.dirname('__file__')#storing the file directory\n",
    "        filepath=os.path.join(basepath,\"uploads\",f.filename)#storing the file in uploads folder\n",
    "        f.save(filepath)#saving the file\n",
    "        \n",
    "        img=image.load_img(filepath,target_size=(64,64)) #load and reshaping the image\n",
    "        x=image.img_to_array(img)#converting image to an array\n",
    "        x=np.expand_dims(x,axis=0)#changing the dimensions of the image\n",
    "\n",
    "        pred=np.argmax(model.predict(x), axis=1)\n",
    "        print(\"prediction\",pred)#printing the prediction\n",
    "        index=['APPLES','BANANA','ORANGE','PINEAPPLE','WATERMELON']\n",
    "        \n",
    "        result=str(index[pred[0]])\n",
    "                    \n",
    "        x=result\n",
    "        print(x)\n",
    "        result=nutrition(result)\n",
    "        print(result)\n",
    "        \n",
    "        return render_template(\"0.html\",showcase=(result),showcase1=(x))\n",
    "def nutrition(index):\n",
    "\n",
    "\n",
    "    url = \"https://calorieninjas.p.rapidapi.com/v1/nutrition\"\n",
    "    \n",
    "    querystring = {\"query\":index}\n",
    "    \n",
    "    headers = {\n",
    "        'x-rapidapi-key': \"5d797ab107mshe668f26bd044e64p1ffd34jsnf47bfa9a8ee4\",\n",
    "        'x-rapidapi-host': \"calorieninjas.p.rapidapi.com\"\n",
    "        }\n",
    "    \n",
    "    response = requests.request(\"GET\", url, headers=headers, params=querystring)\n",
    "    \n",
    "    print(response.text)     \n",
    "    return response.json()['items']\n",
    "if __name__ == \"__main__\":\n",
    "   # running the app\n",
    "    app.run(debug=False)\n"
   ]
  },
  {
   "cell_type": "code",
   "execution_count": null,
   "id": "045512f0",
   "metadata": {},
   "outputs": [],
   "source": []
  }
 ],
 "metadata": {
  "kernelspec": {
   "display_name": "Python 3.10.4 64-bit",
   "language": "python",
   "name": "python3"
  },
  "language_info": {
   "codemirror_mode": {
    "name": "ipython",
    "version": 3
   },
   "file_extension": ".py",
   "mimetype": "text/x-python",
   "name": "python",
   "nbconvert_exporter": "python",
   "pygments_lexer": "ipython3",
   "version": "3.10.4"
  },
  "vscode": {
   "interpreter": {
    "hash": "025b78c9f2b369c2b75e71cf9e4518e5cc99cc93d281d83b23b07ae730f103f3"
   }
  }
 },
 "nbformat": 4,
 "nbformat_minor": 5
}
