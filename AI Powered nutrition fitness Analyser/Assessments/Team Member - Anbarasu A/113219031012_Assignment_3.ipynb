{
  "cells": [
    {
      "cell_type": "code",
      "execution_count": null,
      "metadata": {
        "id": "RYQCbDfgDR4y"
      },
      "outputs": [],
      "source": [
        "import numpy as np\n",
        "import os\n",
        "import cv2\n",
        "import shutil\n",
        "import random as rn\n",
        "from tqdm import tqdm\n",
        "import matplotlib.pyplot as plt\n",
        "import tensorflow as tf\n",
        "\n",
        "from tensorflow import keras\n",
        "from tensorflow.keras import layers\n",
        "from tensorflow.keras.models import Sequential"
      ]
    },
    {
      "cell_type": "code",
      "execution_count": null,
      "metadata": {
        "colab": {
          "base_uri": "https://localhost:8080/"
        },
        "id": "nynaUDIrcoFs",
        "outputId": "9635224a-dc69-461c-f88b-a4a6e0355367"
      },
      "outputs": [],
      "source": [
        "from google.colab import drive\n",
        "drive.mount('/content/drive')"
      ]
    },
    {
      "cell_type": "code",
      "execution_count": null,
      "metadata": {
        "id": "Lf02JF_1DR5Z"
      },
      "outputs": [],
      "source": [
        "data_dir =\"/content/drive/MyDrive/Colab Notebooks/IBM/Flowers-Dataset/flowers\""
      ]
    },
    {
      "cell_type": "code",
      "execution_count": null,
      "metadata": {
        "colab": {
          "base_uri": "https://localhost:8080/"
        },
        "id": "-n0E07ftDR5c",
        "outputId": "2e4766d6-c466-4a33-d746-795f049f02b2"
      },
      "outputs": [],
      "source": [
        "print(os.listdir(\"/content/drive/MyDrive/Colab Notebooks/IBM/Flowers-Dataset/flowers\"))"
      ]
    },
    {
      "cell_type": "code",
      "execution_count": null,
      "metadata": {
        "id": "EMQ8eueTDR5l"
      },
      "outputs": [],
      "source": [
        "batch_size = 32\n",
        "img_height = 180\n",
        "img_width = 180\n",
        "num_classes = 5"
      ]
    },
    {
      "cell_type": "code",
      "execution_count": null,
      "metadata": {
        "colab": {
          "base_uri": "https://localhost:8080/"
        },
        "id": "_DjvmNDBDR5s",
        "outputId": "4904157d-b485-455a-c2df-b8883c815018"
      },
      "outputs": [],
      "source": [
        "train_ds = tf.keras.preprocessing.image_dataset_from_directory(\n",
        "  data_dir,\n",
        "  validation_split=0.2,\n",
        "  subset=\"training\",\n",
        "  seed=123,\n",
        "  image_size=(img_height, img_width),\n",
        "  batch_size=batch_size)"
      ]
    },
    {
      "cell_type": "code",
      "execution_count": null,
      "metadata": {
        "colab": {
          "base_uri": "https://localhost:8080/"
        },
        "id": "h_lBl_JRDR5w",
        "outputId": "f9be7069-ec8d-45f1-ca62-a8458c6a2f74"
      },
      "outputs": [],
      "source": [
        "val_ds = tf.keras.preprocessing.image_dataset_from_directory(\n",
        "  data_dir,\n",
        "  validation_split=0.2,\n",
        "  subset=\"validation\",\n",
        "  seed=123,\n",
        "  image_size=(img_height, img_width),\n",
        "  batch_size=batch_size)"
      ]
    },
    {
      "cell_type": "code",
      "execution_count": null,
      "metadata": {
        "colab": {
          "base_uri": "https://localhost:8080/"
        },
        "id": "UDkfa9cVDR5x",
        "outputId": "d6c09270-96bf-4ceb-9cc1-8a90e83aba29"
      },
      "outputs": [],
      "source": [
        "class_names = train_ds.class_names\n",
        "class_names"
      ]
    },
    {
      "cell_type": "code",
      "execution_count": null,
      "metadata": {
        "id": "_XuZJGM0DR5x"
      },
      "outputs": [],
      "source": [
        "AUTOTUNE = tf.data.AUTOTUNE\n",
        "\n",
        "train_ds = train_ds.cache().shuffle(1000).prefetch(buffer_size=AUTOTUNE)\n",
        "val_ds = val_ds.cache().prefetch(buffer_size=AUTOTUNE)"
      ]
    },
    {
      "cell_type": "code",
      "execution_count": null,
      "metadata": {
        "id": "mEdaFXd7DR5y"
      },
      "outputs": [],
      "source": [
        "normalization_layer = layers.experimental.preprocessing.Rescaling(1./255)"
      ]
    },
    {
      "cell_type": "code",
      "execution_count": null,
      "metadata": {
        "colab": {
          "base_uri": "https://localhost:8080/"
        },
        "id": "Nl1Igcp8DR5z",
        "outputId": "3b001b6a-b393-4473-e25e-576ab75620bc"
      },
      "outputs": [],
      "source": [
        "normalized_ds = train_ds.map(lambda x, y: (normalization_layer(x), y))\n",
        "image_batch, labels_batch = next(iter(normalized_ds))\n",
        "first_image = image_batch[0]\n",
        "# Notice the pixels values are now in `[0,1]`.\n",
        "print(np.min(first_image), np.max(first_image))"
      ]
    },
    {
      "cell_type": "markdown",
      "metadata": {
        "id": "aa0jby6iGi0h"
      },
      "source": [
        "* ### ***Image Augmentation***\n",
        "\n",
        "\n",
        "\n"
      ]
    },
    {
      "cell_type": "code",
      "execution_count": null,
      "metadata": {
        "id": "ts97UAa6DR52"
      },
      "outputs": [],
      "source": [
        "data_augmentation = keras.Sequential(\n",
        "  [\n",
        "    layers.experimental.preprocessing.RandomFlip(\"horizontal\", \n",
        "                                                 input_shape=(img_height, \n",
        "                                                              img_width,\n",
        "                                                              3)),\n",
        "    layers.experimental.preprocessing.RandomRotation(0.1),\n",
        "    layers.experimental.preprocessing.RandomZoom(0.1),\n",
        "  ]\n",
        ")"
      ]
    },
    {
      "cell_type": "markdown",
      "metadata": {
        "id": "h-gTfOU3G6aY"
      },
      "source": [
        "*   ### ***Model Creation / Adding Layers***"
      ]
    },
    {
      "cell_type": "code",
      "execution_count": null,
      "metadata": {
        "id": "DuDiQkSFDR53"
      },
      "outputs": [],
      "source": [
        "model = Sequential([\n",
        "  data_augmentation,\n",
        "  layers.experimental.preprocessing.Rescaling(1./255),\n",
        "  layers.Conv2D(16, 3, padding='same', activation='relu'),\n",
        "  layers.MaxPooling2D(),\n",
        "  layers.Conv2D(32, 3, padding='same', activation='relu'),\n",
        "  layers.MaxPooling2D(),\n",
        "  layers.Conv2D(64, 3, padding='same', activation='relu'),\n",
        "  layers.MaxPooling2D(),\n",
        "  layers.Conv2D(128, 3, padding='same', activation='relu'),\n",
        "  layers.MaxPooling2D(),\n",
        "  layers.Conv2D(256, 3, padding='same', activation='relu'),\n",
        "  layers.MaxPooling2D(),\n",
        "  layers.Dropout(0.3),\n",
        "  layers.Flatten(),\n",
        "  layers.Dense(512, activation='relu'),\n",
        "  layers.Dense(num_classes)\n",
        "])"
      ]
    },
    {
      "cell_type": "markdown",
      "metadata": {
        "id": "Dy5JnxTgHQ5R"
      },
      "source": [
        "* ### ***Compling the Model***"
      ]
    },
    {
      "cell_type": "code",
      "execution_count": null,
      "metadata": {
        "id": "XHx6Hk2oDR55"
      },
      "outputs": [],
      "source": [
        "model.compile(optimizer='adam',\n",
        "              loss=tf.keras.losses.SparseCategoricalCrossentropy(from_logits=True),\n",
        "              metrics=['accuracy'])"
      ]
    },
    {
      "cell_type": "markdown",
      "metadata": {
        "id": "XmrQ0USNHgcn"
      },
      "source": [
        "* ### ***Fitting the Model***"
      ]
    },
    {
      "cell_type": "code",
      "execution_count": null,
      "metadata": {
        "colab": {
          "base_uri": "https://localhost:8080/"
        },
        "id": "GJ6dK_2SDR55",
        "outputId": "4d1c9610-0154-402f-eadf-8fbacb6e9b1e"
      },
      "outputs": [],
      "source": [
        "epochs=25\n",
        "model.fit(\n",
        "  train_ds,\n",
        "  validation_data=val_ds,\n",
        "  epochs=epochs\n",
        ")"
      ]
    },
    {
      "cell_type": "markdown",
      "metadata": {
        "id": "HmUk3C9xSpSN"
      },
      "source": [
        "* ### ***Testing on unseen image Data***"
      ]
    },
    {
      "cell_type": "code",
      "execution_count": null,
      "metadata": {
        "colab": {
          "base_uri": "https://localhost:8080/"
        },
        "id": "ykAjDYXdDR58",
        "outputId": "a3c5d73f-a143-4689-816b-8b1aba792fc2"
      },
      "outputs": [],
      "source": [
        "from matplotlib import image as im\n",
        "from matplotlib import pyplot\n",
        "from keras.preprocessing import image\n",
        "from PIL import Image\n",
        "data = im.imread('/content/drive/MyDrive/Colab Notebooks/IBM/th.jpg')\n",
        "img=image.load_img('/content/drive/MyDrive/Colab Notebooks/IBM/th.jpg', target_size=(180, 180))\n",
        "\n",
        "test_img=np.expand_dims(img , axis=0)\n",
        "  \n",
        "result = model.predict(test_img)\n",
        "pred = np.argmax(result) \n",
        "print(result)\n",
        "print(pred)\n",
        "print(class_names)\n",
        "\n"
      ]
    },
    {
      "cell_type": "code",
      "execution_count": null,
      "metadata": {
        "colab": {
          "base_uri": "https://localhost:8080/"
        },
        "id": "yyJ8RCIOQ5ot",
        "outputId": "4175a14d-0812-4c34-b207-a5f0da8ca57f"
      },
      "outputs": [],
      "source": [
        "image = tf.keras.preprocessing.image.load_img('/content/drive/MyDrive/Colab Notebooks/IBM/th (1).jpg', target_size=(180,180))\n",
        "input_arr = tf.keras.preprocessing.image.img_to_array(image)\n",
        "input_arr = np.array([input_arr])  \n",
        "result = model.predict(input_arr)\n",
        "pred = np.argmax(result) \n",
        "print(class_names)\n",
        "print(pred)\n",
        "print(class_names[pred])"
      ]
    },
    {
      "cell_type": "markdown",
      "metadata": {
        "id": "I3rk2SvdS6M1"
      },
      "source": [
        "* ### ***Saving Model***"
      ]
    },
    {
      "cell_type": "code",
      "execution_count": null,
      "metadata": {
        "id": "_hsOIVlDSWpA"
      },
      "outputs": [],
      "source": [
        "model.save(\"/content/drive/MyDrive/Colab Notebooks/IBM/flower_model.h5\")"
      ]
    },
    {
      "cell_type": "code",
      "execution_count": null,
      "metadata": {
        "colab": {
          "base_uri": "https://localhost:8080/"
        },
        "id": "QiJmaVIRUQYI",
        "outputId": "e8c00d3a-34ca-44c5-bf3b-c55e44b64381"
      },
      "outputs": [],
      "source": [
        "from tensorflow.keras.models import load_model\n",
        "\n",
        "savedModel=load_model(\"/content/drive/MyDrive/Colab Notebooks/IBM/flower_model.h5\")\n",
        "savedModel.summary()"
      ]
    },
    {
      "cell_type": "code",
      "execution_count": null,
      "metadata": {
        "id": "s2Yxq_WzUfbn"
      },
      "outputs": [],
      "source": []
    }
  ],
  "metadata": {
    "accelerator": "GPU",
    "colab": {
      "collapsed_sections": [],
      "provenance": []
    },
    "kernelspec": {
      "display_name": "Python 3.10.5 64-bit",
      "language": "python",
      "name": "python3"
    },
    "language_info": {
      "codemirror_mode": {
        "name": "ipython",
        "version": 3
      },
      "file_extension": ".py",
      "mimetype": "text/x-python",
      "name": "python",
      "nbconvert_exporter": "python",
      "pygments_lexer": "ipython3",
      "version": "3.10.5"
    },
    "orig_nbformat": 4,
    "vscode": {
      "interpreter": {
        "hash": "f9f23445fa1a15a998df05d57eca363639a6b89f1d1449516124b0be497cf24a"
      }
    }
  },
  "nbformat": 4,
  "nbformat_minor": 0
}
