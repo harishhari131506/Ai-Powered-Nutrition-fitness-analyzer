{
 "cells": [
  {
   "cell_type": "markdown",
   "id": "b25c8ef1",
   "metadata": {},
   "source": [
    "IMPORTING LIBARIES\n"
   ]
  },
  {
   "cell_type": "code",
   "execution_count": 32,
   "id": "6cb61274",
   "metadata": {},
   "outputs": [],
   "source": [
    "import numpy as np\n",
    "import tensorflow as tf\n",
    "from tensorflow import keras\n",
    "from tensorflow.keras.models import Sequential\n",
    "from tensorflow.keras.layers import Activation, Dense, Flatten, BatchNormalization, Conv2D, MaxPool2D\n",
    "from tensorflow.keras.optimizers import Adam\n",
    "from tensorflow.keras.metrics import categorical_crossentropy\n",
    "from sklearn.metrics import confusion_matrix\n",
    "from tensorflow.keras.preprocessing.image import ImageDataGenerator\n"
   ]
  },
  {
   "cell_type": "markdown",
   "id": "170ff2ba",
   "metadata": {},
   "source": [
    "DATA PREPROCESSING"
   ]
  },
  {
   "cell_type": "code",
   "execution_count": 33,
   "id": "c894fb3d",
   "metadata": {},
   "outputs": [],
   "source": [
    "train_datagen=ImageDataGenerator(rescale=1./255,shear_range=0.2,zoom_range=0.2,horizontal_flip= True)\n",
    "test_datagen=ImageDataGenerator(rescale=1./255)"
   ]
  },
  {
   "cell_type": "code",
   "execution_count": 34,
   "id": "02a92a9f",
   "metadata": {},
   "outputs": [
    {
     "name": "stdout",
     "output_type": "stream",
     "text": [
      "Found 2626 images belonging to 5 classes.\n",
      "Found 1055 images belonging to 5 classes.\n"
     ]
    }
   ],
   "source": [
    "x_train=train_datagen.flow_from_directory(r'C:\\Users\\91720\\Downloads\\Nutrition_Image_Analysis\\Dataset\\TRAIN_SET'\n",
    "                                         ,target_size=(64,64),batch_size=32,class_mode='categorical'\n",
    "                                         )\n",
    "\n",
    "x_test=test_datagen.flow_from_directory(r'C:\\Users\\91720\\Downloads\\Nutrition_Image_Analysis\\Dataset\\TEST_SET'\n",
    "                                         ,target_size=(64,64),batch_size=32,class_mode='categorical')  "
   ]
  },
  {
   "cell_type": "code",
   "execution_count": 35,
   "id": "d0967849",
   "metadata": {},
   "outputs": [
    {
     "data": {
      "text/plain": [
       "{'APPLES': 0, 'BANANA': 1, 'ORANGE': 2, 'PINEAPPLE': 3, 'WATERMELON': 4}"
      ]
     },
     "execution_count": 35,
     "metadata": {},
     "output_type": "execute_result"
    }
   ],
   "source": [
    "x_train.class_indices\n"
   ]
  },
  {
   "cell_type": "markdown",
   "id": "c288105c",
   "metadata": {},
   "source": [
    "MODEL BUILDING"
   ]
  },
  {
   "cell_type": "code",
   "execution_count": 36,
   "id": "dc0a1f09",
   "metadata": {},
   "outputs": [],
   "source": [
    "model=Sequential()"
   ]
  },
  {
   "cell_type": "code",
   "execution_count": 37,
   "id": "56ecedb7",
   "metadata": {},
   "outputs": [],
   "source": [
    "model=Sequential()"
   ]
  },
  {
   "cell_type": "code",
   "execution_count": 38,
   "id": "cfcc053f",
   "metadata": {},
   "outputs": [],
   "source": [
    "classifer=Sequential()\n",
    "classifer.add(Conv2D(32,(3,3),input_shape=(64,64,3),activation=\"relu\"))\n",
    "classifer.add(MaxPool2D(pool_size=(2,2)))\n",
    "classifer.add(Conv2D(32,(3,3),activation=\"relu\"))\n",
    "classifer.add(MaxPool2D(pool_size=(2,2)))\n",
    "classifer.add(Flatten())"
   ]
  },
  {
   "cell_type": "code",
   "execution_count": 39,
   "id": "d13820f0",
   "metadata": {},
   "outputs": [],
   "source": [
    "classifer.add(Dense(units=128,activation=\"relu\"))\n",
    "classifer.add(Dense(units=5,activation=\"softmax\"))"
   ]
  },
  {
   "cell_type": "code",
   "execution_count": 40,
   "id": "a58918f1",
   "metadata": {},
   "outputs": [
    {
     "name": "stdout",
     "output_type": "stream",
     "text": [
      "Model: \"sequential_6\"\n",
      "_________________________________________________________________\n",
      "Layer (type)                 Output Shape              Param #   \n",
      "=================================================================\n",
      "conv2d_5 (Conv2D)            (None, 62, 62, 32)        896       \n",
      "_________________________________________________________________\n",
      "max_pooling2d_5 (MaxPooling2 (None, 31, 31, 32)        0         \n",
      "_________________________________________________________________\n",
      "conv2d_6 (Conv2D)            (None, 29, 29, 32)        9248      \n",
      "_________________________________________________________________\n",
      "max_pooling2d_6 (MaxPooling2 (None, 14, 14, 32)        0         \n",
      "_________________________________________________________________\n",
      "flatten_3 (Flatten)          (None, 6272)              0         \n",
      "_________________________________________________________________\n",
      "dense_6 (Dense)              (None, 128)               802944    \n",
      "_________________________________________________________________\n",
      "dense_7 (Dense)              (None, 5)                 645       \n",
      "=================================================================\n",
      "Total params: 813,733\n",
      "Trainable params: 813,733\n",
      "Non-trainable params: 0\n",
      "_________________________________________________________________\n"
     ]
    }
   ],
   "source": [
    "classifer.summary()"
   ]
  },
  {
   "cell_type": "code",
   "execution_count": 41,
   "id": "2ac4cdfd",
   "metadata": {},
   "outputs": [],
   "source": [
    "classifer.compile(optimizer=\"rmsprop\",loss=\"categorical_crossentropy\",metrics=[\"accuracy\"])"
   ]
  },
  {
   "cell_type": "code",
   "execution_count": 42,
   "id": "de0dcb34",
   "metadata": {},
   "outputs": [
    {
     "name": "stdout",
     "output_type": "stream",
     "text": [
      "Epoch 1/20\n",
      "82/82 [==============================] - 7s 77ms/step - loss: 0.5474 - accuracy: 0.8150 - val_loss: 0.0931 - val_accuracy: 0.9632\n",
      "Epoch 2/20\n",
      "82/82 [==============================] - 6s 73ms/step - loss: 0.0608 - accuracy: 0.9869 - val_loss: 0.0498 - val_accuracy: 0.9688\n",
      "Epoch 3/20\n",
      "82/82 [==============================] - 9s 105ms/step - loss: 0.1224 - accuracy: 0.9815 - val_loss: 0.0258 - val_accuracy: 0.9810\n",
      "Epoch 4/20\n",
      "82/82 [==============================] - 8s 103ms/step - loss: 0.1547 - accuracy: 0.9865 - val_loss: 8.6944e-04 - val_accuracy: 1.0000\n",
      "Epoch 5/20\n",
      "82/82 [==============================] - 8s 98ms/step - loss: 6.5788e-04 - accuracy: 1.0000 - val_loss: 0.0190 - val_accuracy: 0.9900\n",
      "Epoch 6/20\n",
      "82/82 [==============================] - 8s 102ms/step - loss: 0.1110 - accuracy: 0.9907 - val_loss: 0.0077 - val_accuracy: 1.0000\n",
      "Epoch 7/20\n",
      "82/82 [==============================] - 8s 99ms/step - loss: 0.0903 - accuracy: 0.9880 - val_loss: 0.5883 - val_accuracy: 0.8694\n",
      "Epoch 8/20\n",
      "82/82 [==============================] - 8s 95ms/step - loss: 0.0040 - accuracy: 0.9988 - val_loss: 0.0128 - val_accuracy: 0.9933\n",
      "Epoch 9/20\n",
      "82/82 [==============================] - 8s 100ms/step - loss: 0.1629 - accuracy: 0.9877 - val_loss: 0.1352 - val_accuracy: 0.9710\n",
      "Epoch 10/20\n",
      "82/82 [==============================] - 8s 97ms/step - loss: 7.3137e-05 - accuracy: 1.0000 - val_loss: 0.0095 - val_accuracy: 0.9989\n",
      "Epoch 11/20\n",
      "82/82 [==============================] - 8s 96ms/step - loss: 0.0934 - accuracy: 0.9907 - val_loss: 5.1888e-04 - val_accuracy: 1.0000\n",
      "Epoch 12/20\n",
      "82/82 [==============================] - 8s 101ms/step - loss: 1.2171e-05 - accuracy: 1.0000 - val_loss: 0.0213 - val_accuracy: 0.9877\n",
      "Epoch 13/20\n",
      "82/82 [==============================] - 11s 135ms/step - loss: 0.0364 - accuracy: 0.9942 - val_loss: 0.0259 - val_accuracy: 0.9799\n",
      "Epoch 14/20\n",
      "82/82 [==============================] - 9s 108ms/step - loss: 1.1797e-06 - accuracy: 1.0000 - val_loss: 0.0238 - val_accuracy: 0.9821\n",
      "Epoch 15/20\n",
      "82/82 [==============================] - 8s 98ms/step - loss: 0.0680 - accuracy: 0.9927 - val_loss: 0.0026 - val_accuracy: 0.9989\n",
      "Epoch 16/20\n",
      "82/82 [==============================] - 8s 101ms/step - loss: 8.1301e-06 - accuracy: 1.0000 - val_loss: 0.0106 - val_accuracy: 0.9933\n",
      "Epoch 17/20\n",
      "82/82 [==============================] - 8s 101ms/step - loss: 0.0381 - accuracy: 0.9954 - val_loss: 0.7631 - val_accuracy: 0.8795\n",
      "Epoch 18/20\n",
      "82/82 [==============================] - 8s 99ms/step - loss: 4.0489e-05 - accuracy: 1.0000 - val_loss: 0.0638 - val_accuracy: 0.9732\n",
      "Epoch 19/20\n",
      "82/82 [==============================] - 8s 95ms/step - loss: 0.0150 - accuracy: 0.9973 - val_loss: 0.0305 - val_accuracy: 0.9855\n",
      "Epoch 20/20\n",
      "82/82 [==============================] - 8s 98ms/step - loss: 1.4313e-05 - accuracy: 1.0000 - val_loss: 0.0165 - val_accuracy: 0.9888\n"
     ]
    },
    {
     "data": {
      "text/plain": [
       "<tensorflow.python.keras.callbacks.History at 0x1ff99d56850>"
      ]
     },
     "execution_count": 42,
     "metadata": {},
     "output_type": "execute_result"
    }
   ],
   "source": [
    "classifer.fit(x_train,steps_per_epoch=82,epochs=20,validation_data=x_test,validation_steps=28)\n"
   ]
  },
  {
   "cell_type": "markdown",
   "id": "a4d1c523",
   "metadata": {},
   "source": [
    "SAVING THE MODEL\n"
   ]
  },
  {
   "cell_type": "code",
   "execution_count": 43,
   "id": "049acc66",
   "metadata": {},
   "outputs": [],
   "source": [
    "classifer.save(\"model.h5\")"
   ]
  },
  {
   "cell_type": "markdown",
   "id": "9f15e354",
   "metadata": {},
   "source": [
    "MODEL PREDICITION"
   ]
  },
  {
   "cell_type": "code",
   "execution_count": 44,
   "id": "7c7d378d",
   "metadata": {},
   "outputs": [
    {
     "data": {
      "text/plain": [
       "<tensorflow.python.keras.engine.sequential.Sequential at 0x1ff9a7cac40>"
      ]
     },
     "execution_count": 44,
     "metadata": {},
     "output_type": "execute_result"
    }
   ],
   "source": [
    "from tensorflow.keras.models import load_model\n",
    "model=load_model(\"model.h5\")\n",
    "model\n"
   ]
  },
  {
   "cell_type": "code",
   "execution_count": 45,
   "id": "6c6a83c9",
   "metadata": {},
   "outputs": [],
   "source": [
    "from tensorflow.keras.preprocessing import image"
   ]
  },
  {
   "cell_type": "code",
   "execution_count": 46,
   "id": "31bb6c02",
   "metadata": {},
   "outputs": [],
   "source": [
    "img = image.load_img(r\"C:\\Users\\91720\\Downloads\\Nutrition_Image_Analysis\\Dataset\\TEST_SET\\BANANA\\13_100.jpg\", target_size = (64, 64))\n",
    "x = image.img_to_array(img)\n",
    "x = np.expand_dims(x, axis = 0)\n"
   ]
  },
  {
   "cell_type": "code",
   "execution_count": 47,
   "id": "84deac01",
   "metadata": {},
   "outputs": [
    {
     "data": {
      "text/plain": [
       "array([[0., 1., 0., 0., 0.]], dtype=float32)"
      ]
     },
     "execution_count": 47,
     "metadata": {},
     "output_type": "execute_result"
    }
   ],
   "source": [
    "prediction = model.predict(x)\n",
    "index = ['APPLES', 'BANANA', 'ORANGE', 'PINEAPPLE', 'WATERMELON']\n",
    "prediction\n"
   ]
  },
  {
   "cell_type": "code",
   "execution_count": 48,
   "id": "50aae8f5",
   "metadata": {},
   "outputs": [],
   "source": [
    "ind = np.argmax(prediction)"
   ]
  },
  {
   "cell_type": "code",
   "execution_count": 49,
   "id": "730895a1",
   "metadata": {},
   "outputs": [
    {
     "data": {
      "text/plain": [
       "'BANANA'"
      ]
     },
     "execution_count": 49,
     "metadata": {},
     "output_type": "execute_result"
    }
   ],
   "source": [
    "index[ind]"
   ]
  },
  {
   "cell_type": "code",
   "execution_count": null,
   "id": "6321dcfd",
   "metadata": {},
   "outputs": [],
   "source": []
  }
 ],
 "metadata": {
  "kernelspec": {
   "display_name": "Python 3 (ipykernel)",
   "language": "python",
   "name": "python3"
  },
  "language_info": {
   "codemirror_mode": {
    "name": "ipython",
    "version": 3
   },
   "file_extension": ".py",
   "mimetype": "text/x-python",
   "name": "python",
   "nbconvert_exporter": "python",
   "pygments_lexer": "ipython3",
   "version": "3.9.12"
  }
 },
 "nbformat": 4,
 "nbformat_minor": 5
}
